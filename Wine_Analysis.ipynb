{
 "cells": [
  {
   "cell_type": "markdown",
   "metadata": {},
   "source": [
    "# Wine Analysis \n",
    "\n",
    "By Stuart Murphy and Nick Zauner\n",
    "***"
   ]
  },
  {
   "cell_type": "markdown",
   "metadata": {},
   "source": [
    "![Drink_Bubbly](https://bestanimations.com/Food/Beverages/Alcohol/drink-champagne-animated-gif.gif)\n",
    "\n",
    "- API's collected from:\n",
    "    - [Snooth](http://www.snooth.com/)\n",
    "    - [Wine-reviews](https://www.kaggle.com/zynicide/wine-reviews)\n",
    "\n",
    "\n",
    "- Data Folder:\n",
    "        \n",
    "    - \"snooth_api_pull.csv\" and \"wine-reviews.zip\"\n",
    "\n",
    "\n",
    "* Graphs Folder:\n",
    "    \n",
    "    * Saved graphs from \"Wine_Analysis.ipynb\" \n",
    "\n",
    "\n",
    "* Images Folder:\n",
    "    \n",
    "    * Saved non-graph images used\n",
    "\n",
    "\n",
    "* Presentation:\n",
    "    \n",
    "    * [Wine Analysis](https://prezi.com/view/nsEG3LrOrJJHHD87K61Q/)\n"
   ]
  }
 ],
 "metadata": {
  "kernelspec": {
   "display_name": "Python 3",
   "language": "python",
   "name": "python3"
  },
  "language_info": {
   "codemirror_mode": {
    "name": "ipython",
    "version": 3
   },
   "file_extension": ".py",
   "mimetype": "text/x-python",
   "name": "python",
   "nbconvert_exporter": "python",
   "pygments_lexer": "ipython3",
   "version": "3.6.9"
  }
 },
 "nbformat": 4,
 "nbformat_minor": 4
}
